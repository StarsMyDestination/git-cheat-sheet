{
 "cells": [
  {
   "cell_type": "markdown",
   "metadata": {},
   "source": [
    "# Configuring a remote for a fork"
   ]
  },
  {
   "cell_type": "markdown",
   "metadata": {},
   "source": [
    "[github help link](https://help.github.com/articles/configuring-a-remote-for-a-fork/)"
   ]
  },
  {
   "cell_type": "markdown",
   "metadata": {},
   "source": [
    "1.List the current configured remote repository for your fork."
   ]
  },
  {
   "cell_type": "markdown",
   "metadata": {},
   "source": [
    "    $ git remote -v\n",
    "    origin  https://github.com/YOUR_USERNAME/YOUR_FORK.git (fetch)\n",
    "    origin  https://github.com/YOUR_USERNAME/YOUR_FORK.git (push)"
   ]
  },
  {
   "cell_type": "markdown",
   "metadata": {},
   "source": [
    "2.Specify a new remote upstream repository that will be synced with the fork."
   ]
  },
  {
   "cell_type": "markdown",
   "metadata": {},
   "source": [
    "    $ git remote add upstream https://github.com/ORIGINAL_OWNER/ORIGINAL_REPOSITORY.git"
   ]
  },
  {
   "cell_type": "markdown",
   "metadata": {},
   "source": [
    "3.Verify the new upstream repository you've specified for your fork."
   ]
  },
  {
   "cell_type": "markdown",
   "metadata": {},
   "source": [
    "    $ git remote -v\n",
    "    origin    https://github.com/YOUR_USERNAME/YOUR_FORK.git (fetch)\n",
    "    origin    https://github.com/YOUR_USERNAME/YOUR_FORK.git (push)\n",
    "    upstream  https://github.com/ORIGINAL_OWNER/ORIGINAL_REPOSITORY.git (fetch)\n",
    "    upstream  https://github.com/ORIGINAL_OWNER/ORIGINAL_REPOSITORY.git (push)"
   ]
  },
  {
   "cell_type": "markdown",
   "metadata": {},
   "source": [
    "# Syncing a fork"
   ]
  },
  {
   "cell_type": "markdown",
   "metadata": {},
   "source": [
    "1.Fetch the branches and their respective commits from the upstream repository. Commits to `master` will be stored in a local branch, `upstream/master`."
   ]
  },
  {
   "cell_type": "markdown",
   "metadata": {},
   "source": [
    "    $ git fetch upstream\n",
    "    remote: Counting objects: 75, done.\n",
    "    remote: Compressing objects: 100% (53/53), done.\n",
    "    remote: Total 62 (delta 27), reused 44 (delta 9)\n",
    "    Unpacking objects: 100% (62/62), done.\n",
    "    From https://github.com/ORIGINAL_OWNER/ORIGINAL_REPOSITORY\n",
    "     * [new branch]      master     -> upstream/master"
   ]
  },
  {
   "cell_type": "markdown",
   "metadata": {},
   "source": [
    "2.Check out your fork's `local master` branch."
   ]
  },
  {
   "cell_type": "markdown",
   "metadata": {},
   "source": [
    "    $ git checkout master\n",
    "    Switched to branch 'master'"
   ]
  },
  {
   "cell_type": "markdown",
   "metadata": {},
   "source": [
    "3.Merge the changes from `upstream/master` into your local `master` branch. This brings your fork's `master` branch into sync with the upstream repository, without losing your local changes."
   ]
  },
  {
   "cell_type": "markdown",
   "metadata": {},
   "source": [
    "    $ git merge upstream/master\n",
    "    Updating a422352..5fdff0f\n",
    "    Fast-forward\n",
    "     README                    |    9 -------\n",
    "     README.md                 |    7 ++++++\n",
    "     2 files changed, 7 insertions(+), 9 deletions(-)\n",
    "     delete mode 100644 README\n",
    "     create mode 100644 README.md"
   ]
  },
  {
   "cell_type": "markdown",
   "metadata": {},
   "source": [
    "If your local branch didn't have any unique commits, Git will instead perform a \"fast-forward\":"
   ]
  },
  {
   "cell_type": "markdown",
   "metadata": {},
   "source": [
    "    $ git merge upstream/master\n",
    "    Updating 34e91da..16c56ad\n",
    "    Fast-forward\n",
    "     README.md                 |    5 +++--\n",
    "     1 file changed, 3 insertions(+), 2 deletions(-)"
   ]
  },
  {
   "cell_type": "code",
   "execution_count": null,
   "metadata": {
    "collapsed": true
   },
   "outputs": [],
   "source": []
  }
 ],
 "metadata": {
  "kernelspec": {
   "display_name": "Python 2",
   "language": "python",
   "name": "python2"
  },
  "language_info": {
   "codemirror_mode": {
    "name": "ipython",
    "version": 2
   },
   "file_extension": ".py",
   "mimetype": "text/x-python",
   "name": "python",
   "nbconvert_exporter": "python",
   "pygments_lexer": "ipython2",
   "version": "2.7.12"
  }
 },
 "nbformat": 4,
 "nbformat_minor": 2
}
